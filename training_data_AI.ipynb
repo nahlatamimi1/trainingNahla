{
 "cells": [
  {
   "cell_type": "code",
   "execution_count": 1,
   "id": "468b9857",
   "metadata": {},
   "outputs": [
    {
     "name": "stdout",
     "output_type": "stream",
     "text": [
      "Text preprocessing completed and saved to the new Excel file: C:\\Users\\HP\\Desktop\\preprocessed_data.xlsx\n"
     ]
    }
   ],
   "source": [
    "import pandas as pd\n",
    "from nltk.tokenize import word_tokenize\n",
    "from nltk.corpus import stopwords\n",
    "import string\n",
    "\n",
    "def preprocess_text(text):\n",
    "    \n",
    "    tokens = word_tokenize(text.lower())\n",
    "    \n",
    "    stop_words = set(stopwords.words('english'))\n",
    "    \n",
    "    punctuation = set(string.punctuation)\n",
    "    \n",
    "    filtered_tokens = [word for word in tokens if word not in stop_words and word not in punctuation]\n",
    "    \n",
    "    preprocessed_text = ' '.join(filtered_tokens)\n",
    "    \n",
    "    return preprocessed_text\n",
    "\n",
    "\n",
    "input_file_path = r'C:\\Users\\HP\\Desktop\\train_data.xlsx'\n",
    "output_file_path = r'C:\\Users\\HP\\Desktop\\preprocessed_data.xlsx'\n",
    "\n",
    "df = pd.read_excel(input_file_path)\n",
    "\n",
    "df['text'] = df['text'].apply(preprocess_text)\n",
    "\n",
    "# Set index from 1 to 10\n",
    "df.index = range(1, 11)\n",
    "\n",
    "df.to_excel(output_file_path, index=True)\n",
    "\n",
    "print(\"Text preprocessing completed and saved to the new Excel file:\", output_file_path)\n"
   ]
  },
  {
   "cell_type": "code",
   "execution_count": 2,
   "id": "c7bb53a1",
   "metadata": {},
   "outputs": [
    {
     "data": {
      "text/html": [
       "<div>\n",
       "<style scoped>\n",
       "    .dataframe tbody tr th:only-of-type {\n",
       "        vertical-align: middle;\n",
       "    }\n",
       "\n",
       "    .dataframe tbody tr th {\n",
       "        vertical-align: top;\n",
       "    }\n",
       "\n",
       "    .dataframe thead th {\n",
       "        text-align: right;\n",
       "    }\n",
       "</style>\n",
       "<table border=\"1\" class=\"dataframe\">\n",
       "  <thead>\n",
       "    <tr style=\"text-align: right;\">\n",
       "      <th></th>\n",
       "      <th>Unnamed: 0</th>\n",
       "      <th>text</th>\n",
       "      <th>index</th>\n",
       "    </tr>\n",
       "  </thead>\n",
       "  <tbody>\n",
       "    <tr>\n",
       "      <th>0</th>\n",
       "      <td>1</td>\n",
       "      <td>nice useful training</td>\n",
       "      <td>1</td>\n",
       "    </tr>\n",
       "    <tr>\n",
       "      <th>1</th>\n",
       "      <td>2</td>\n",
       "      <td>good chance</td>\n",
       "      <td>2</td>\n",
       "    </tr>\n",
       "    <tr>\n",
       "      <th>2</th>\n",
       "      <td>3</td>\n",
       "      <td>trained municipality hebron</td>\n",
       "      <td>3</td>\n",
       "    </tr>\n",
       "    <tr>\n",
       "      <th>3</th>\n",
       "      <td>4</td>\n",
       "      <td>trained one department hebron municipality</td>\n",
       "      <td>4</td>\n",
       "    </tr>\n",
       "    <tr>\n",
       "      <th>4</th>\n",
       "      <td>5</td>\n",
       "      <td>training session learned effective communicati...</td>\n",
       "      <td>5</td>\n",
       "    </tr>\n",
       "  </tbody>\n",
       "</table>\n",
       "</div>"
      ],
      "text/plain": [
       "   Unnamed: 0                                               text  index\n",
       "0           1                               nice useful training      1\n",
       "1           2                                        good chance      2\n",
       "2           3                        trained municipality hebron      3\n",
       "3           4         trained one department hebron municipality      4\n",
       "4           5  training session learned effective communicati...      5"
      ]
     },
     "execution_count": 2,
     "metadata": {},
     "output_type": "execute_result"
    }
   ],
   "source": [
    "resume_data =  pd.read_excel(r\"C:\\Users\\HP\\Desktop\\preprocessed_data.xlsx\")\n",
    "resume_data.head()"
   ]
  },
  {
   "cell_type": "code",
   "execution_count": 3,
   "id": "b738a3b7",
   "metadata": {},
   "outputs": [],
   "source": [
    "from sklearn.feature_extraction.text import TfidfVectorizer\n",
    "from sklearn.model_selection import train_test_split\n",
    "from nltk.tokenize import word_tokenize\n",
    "\n",
    "# Assuming 'label' is your target label column\n",
    "text = resume_data[\"text\"].values\n",
    "labels = resume_data[\"index\"].values\n",
    "\n",
    "\n",
    "# Splitting the data into training and testing sets\n",
    "text_train, text_test, y_train, y_test = train_test_split(text, labels, random_state=0, test_size=0.25)\n",
    "\n",
    "# TF-IDF Vectorization\n",
    "word_vectorizer = TfidfVectorizer(\n",
    "    sublinear_tf=True,  # Reduce the impact of high word frequencies\n",
    "    use_idf=True,       # Give more importance to rare words in documents\n",
    "    stop_words='english',   # Remove words that don't carry much meaning\n",
    "    max_features=1000    # Maximum number of features (words) used in the matrix\n",
    ")\n",
    "\n",
    "X_train = word_vectorizer.fit_transform(text_train)\n",
    "X_test = word_vectorizer.transform(text_test)\n"
   ]
  },
  {
   "cell_type": "code",
   "execution_count": 4,
   "id": "72d02c5f",
   "metadata": {},
   "outputs": [
    {
     "name": "stdout",
     "output_type": "stream",
     "text": [
      "Accuracy of MultinomialNB Classifier on training set: 1.00\n",
      "Accuracy of MultinomialNB Classifier on test set: 0.00\n"
     ]
    }
   ],
   "source": [
    "from sklearn.naive_bayes import MultinomialNB\n",
    "from sklearn.metrics import f1_score, classification_report, precision_score, recall_score\n",
    "\n",
    "model_NB = MultinomialNB().fit(X_train, y_train)\n",
    "prediction_mnb = model_NB.predict(X_test)\n",
    "\n",
    "print('Accuracy of MultinomialNB Classifier on training set: {:.2f}'.format(model_NB.score(X_train, y_train)))\n",
    "print('Accuracy of MultinomialNB Classifier on test set: {:.2f}'.format(model_NB.score(X_test, y_test)))"
   ]
  },
  {
   "cell_type": "code",
   "execution_count": null,
   "id": "2c711411",
   "metadata": {},
   "outputs": [],
   "source": []
  }
 ],
 "metadata": {
  "kernelspec": {
   "display_name": "Python 3 (ipykernel)",
   "language": "python",
   "name": "python3"
  },
  "language_info": {
   "codemirror_mode": {
    "name": "ipython",
    "version": 3
   },
   "file_extension": ".py",
   "mimetype": "text/x-python",
   "name": "python",
   "nbconvert_exporter": "python",
   "pygments_lexer": "ipython3",
   "version": "3.9.12"
  }
 },
 "nbformat": 4,
 "nbformat_minor": 5
}
